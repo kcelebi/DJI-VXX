{
 "cells": [
  {
   "cell_type": "code",
   "execution_count": 1,
   "metadata": {},
   "outputs": [],
   "source": [
    "import json\n",
    "import pandas as pd\n",
    "import gensim\n",
    "import nltk\n",
    "from sklearn.feature_extraction.text import TfidfVectorizer\n",
    "from sklearn.model_selection import train_test_split\n",
    "import numpy as np\n",
    "import math"
   ]
  },
  {
   "cell_type": "markdown",
   "metadata": {},
   "source": [
    "# Creating Corpus"
   ]
  },
  {
   "cell_type": "code",
   "execution_count": 2,
   "metadata": {},
   "outputs": [],
   "source": [
    "market_data = pd.read_csv('data/market_data.csv')\n",
    "with open('json/readable.json') as json_file:\n",
    "    heads = json.load(json_file)"
   ]
  },
  {
   "cell_type": "code",
   "execution_count": 3,
   "metadata": {},
   "outputs": [],
   "source": [
    "head_dates =list(heads.keys()) #gets the dates into a list\n",
    "dates = [d for d in market_data['Date'] if d.replace(\"-\",\"\") in heads.keys()]\n",
    "#dates = [d for d in head_dates if (d[0:4] + \"-\" + d[4:6] + \"-\" + d[6::]) in list(market_data[\"Date\"])]\n",
    "vix_close = [market_data.loc[i].values[4] for i in range(len(market_data)) if market_data['Date'][i] in dates]\n",
    "dji_close = [market_data.loc[i].values[-3] for i in range(len(market_data)) if market_data['Date'][i] in dates]"
   ]
  },
  {
   "cell_type": "code",
   "execution_count": 4,
   "metadata": {},
   "outputs": [],
   "source": [
    "corpus = ['. '.join(heads[d.replace(\"-\",\"\")]) for d in dates] #constructs each date of headlines as a document"
   ]
  },
  {
   "cell_type": "code",
   "execution_count": 6,
   "metadata": {},
   "outputs": [],
   "source": [
    "corpus2 = [''.join([' . '.join(heads[dates[i].replace(\"-\",\"\")]),\n",
    "                    \" . \".join(heads[dates[i+1].replace(\"-\",\"\")]),\n",
    "                    \" . \".join(heads[dates[i+2].replace(\"-\",\"\")])])\n",
    "           for i in range(len(dates)-3)] #for looking back 3 days to predict 4th"
   ]
  },
  {
   "cell_type": "markdown",
   "metadata": {},
   "source": [
    "# Create tf-idf Scores for 'of Day Headlines'"
   ]
  },
  {
   "cell_type": "code",
   "execution_count": 51,
   "metadata": {},
   "outputs": [],
   "source": [
    "vectorizer = TfidfVectorizer(min_df=0.01, max_df=0.2,  norm=None) #get vector and tdidf scores\n",
    "tfidf_scores = vectorizer.fit_transform(corpus)"
   ]
  },
  {
   "cell_type": "code",
   "execution_count": 52,
   "metadata": {},
   "outputs": [
    {
     "data": {
      "text/html": [
       "<div>\n",
       "<style scoped>\n",
       "    .dataframe tbody tr th:only-of-type {\n",
       "        vertical-align: middle;\n",
       "    }\n",
       "\n",
       "    .dataframe tbody tr th {\n",
       "        vertical-align: top;\n",
       "    }\n",
       "\n",
       "    .dataframe thead th {\n",
       "        text-align: right;\n",
       "    }\n",
       "</style>\n",
       "<table border=\"1\" class=\"dataframe\">\n",
       "  <thead>\n",
       "    <tr style=\"text-align: right;\">\n",
       "      <th></th>\n",
       "      <th>000</th>\n",
       "      <th>08</th>\n",
       "      <th>100</th>\n",
       "      <th>101</th>\n",
       "      <th>11</th>\n",
       "      <th>12</th>\n",
       "      <th>13</th>\n",
       "      <th>14</th>\n",
       "      <th>15</th>\n",
       "      <th>150</th>\n",
       "      <th>...</th>\n",
       "      <th>youtube</th>\n",
       "      <th>yuan</th>\n",
       "      <th>yukos</th>\n",
       "      <th>yum</th>\n",
       "      <th>zealand</th>\n",
       "      <th>zero</th>\n",
       "      <th>zika</th>\n",
       "      <th>zimbabwe</th>\n",
       "      <th>zone</th>\n",
       "      <th>zurich</th>\n",
       "    </tr>\n",
       "  </thead>\n",
       "  <tbody>\n",
       "    <tr>\n",
       "      <th>0</th>\n",
       "      <td>0.0</td>\n",
       "      <td>0.0</td>\n",
       "      <td>0.0</td>\n",
       "      <td>0.0</td>\n",
       "      <td>0.000000</td>\n",
       "      <td>0.000000</td>\n",
       "      <td>0.0</td>\n",
       "      <td>0.000000</td>\n",
       "      <td>0.0</td>\n",
       "      <td>0.0</td>\n",
       "      <td>...</td>\n",
       "      <td>0.0</td>\n",
       "      <td>0.0</td>\n",
       "      <td>0.0</td>\n",
       "      <td>0.0</td>\n",
       "      <td>0.0</td>\n",
       "      <td>0.0</td>\n",
       "      <td>0.0</td>\n",
       "      <td>0.0</td>\n",
       "      <td>0.0</td>\n",
       "      <td>0.0</td>\n",
       "    </tr>\n",
       "    <tr>\n",
       "      <th>1</th>\n",
       "      <td>0.0</td>\n",
       "      <td>0.0</td>\n",
       "      <td>0.0</td>\n",
       "      <td>0.0</td>\n",
       "      <td>0.000000</td>\n",
       "      <td>0.000000</td>\n",
       "      <td>0.0</td>\n",
       "      <td>3.477608</td>\n",
       "      <td>0.0</td>\n",
       "      <td>0.0</td>\n",
       "      <td>...</td>\n",
       "      <td>0.0</td>\n",
       "      <td>0.0</td>\n",
       "      <td>0.0</td>\n",
       "      <td>0.0</td>\n",
       "      <td>0.0</td>\n",
       "      <td>0.0</td>\n",
       "      <td>0.0</td>\n",
       "      <td>0.0</td>\n",
       "      <td>0.0</td>\n",
       "      <td>0.0</td>\n",
       "    </tr>\n",
       "    <tr>\n",
       "      <th>2</th>\n",
       "      <td>0.0</td>\n",
       "      <td>0.0</td>\n",
       "      <td>0.0</td>\n",
       "      <td>0.0</td>\n",
       "      <td>0.000000</td>\n",
       "      <td>3.239483</td>\n",
       "      <td>0.0</td>\n",
       "      <td>0.000000</td>\n",
       "      <td>0.0</td>\n",
       "      <td>0.0</td>\n",
       "      <td>...</td>\n",
       "      <td>0.0</td>\n",
       "      <td>0.0</td>\n",
       "      <td>0.0</td>\n",
       "      <td>0.0</td>\n",
       "      <td>0.0</td>\n",
       "      <td>0.0</td>\n",
       "      <td>0.0</td>\n",
       "      <td>0.0</td>\n",
       "      <td>0.0</td>\n",
       "      <td>0.0</td>\n",
       "    </tr>\n",
       "    <tr>\n",
       "      <th>3</th>\n",
       "      <td>0.0</td>\n",
       "      <td>0.0</td>\n",
       "      <td>0.0</td>\n",
       "      <td>0.0</td>\n",
       "      <td>0.000000</td>\n",
       "      <td>0.000000</td>\n",
       "      <td>0.0</td>\n",
       "      <td>0.000000</td>\n",
       "      <td>0.0</td>\n",
       "      <td>0.0</td>\n",
       "      <td>...</td>\n",
       "      <td>0.0</td>\n",
       "      <td>0.0</td>\n",
       "      <td>0.0</td>\n",
       "      <td>0.0</td>\n",
       "      <td>0.0</td>\n",
       "      <td>0.0</td>\n",
       "      <td>0.0</td>\n",
       "      <td>0.0</td>\n",
       "      <td>0.0</td>\n",
       "      <td>0.0</td>\n",
       "    </tr>\n",
       "    <tr>\n",
       "      <th>4</th>\n",
       "      <td>0.0</td>\n",
       "      <td>0.0</td>\n",
       "      <td>0.0</td>\n",
       "      <td>0.0</td>\n",
       "      <td>2.704055</td>\n",
       "      <td>0.000000</td>\n",
       "      <td>0.0</td>\n",
       "      <td>0.000000</td>\n",
       "      <td>0.0</td>\n",
       "      <td>0.0</td>\n",
       "      <td>...</td>\n",
       "      <td>0.0</td>\n",
       "      <td>0.0</td>\n",
       "      <td>0.0</td>\n",
       "      <td>0.0</td>\n",
       "      <td>0.0</td>\n",
       "      <td>0.0</td>\n",
       "      <td>0.0</td>\n",
       "      <td>0.0</td>\n",
       "      <td>0.0</td>\n",
       "      <td>0.0</td>\n",
       "    </tr>\n",
       "  </tbody>\n",
       "</table>\n",
       "<p>5 rows × 5570 columns</p>\n",
       "</div>"
      ],
      "text/plain": [
       "   000   08  100  101        11        12   13        14   15  150  ...  \\\n",
       "0  0.0  0.0  0.0  0.0  0.000000  0.000000  0.0  0.000000  0.0  0.0  ...   \n",
       "1  0.0  0.0  0.0  0.0  0.000000  0.000000  0.0  3.477608  0.0  0.0  ...   \n",
       "2  0.0  0.0  0.0  0.0  0.000000  3.239483  0.0  0.000000  0.0  0.0  ...   \n",
       "3  0.0  0.0  0.0  0.0  0.000000  0.000000  0.0  0.000000  0.0  0.0  ...   \n",
       "4  0.0  0.0  0.0  0.0  2.704055  0.000000  0.0  0.000000  0.0  0.0  ...   \n",
       "\n",
       "   youtube  yuan  yukos  yum  zealand  zero  zika  zimbabwe  zone  zurich  \n",
       "0      0.0   0.0    0.0  0.0      0.0   0.0   0.0       0.0   0.0     0.0  \n",
       "1      0.0   0.0    0.0  0.0      0.0   0.0   0.0       0.0   0.0     0.0  \n",
       "2      0.0   0.0    0.0  0.0      0.0   0.0   0.0       0.0   0.0     0.0  \n",
       "3      0.0   0.0    0.0  0.0      0.0   0.0   0.0       0.0   0.0     0.0  \n",
       "4      0.0   0.0    0.0  0.0      0.0   0.0   0.0       0.0   0.0     0.0  \n",
       "\n",
       "[5 rows x 5570 columns]"
      ]
     },
     "execution_count": 52,
     "metadata": {},
     "output_type": "execute_result"
    }
   ],
   "source": [
    "tfidf_matrix = tfidf_scores.toarray() #put it to a matrix\n",
    "df_tfidf_scores = pd.DataFrame(tfidf_matrix, columns=vectorizer.get_feature_names())\n",
    "df_tfidf_scores.head()"
   ]
  },
  {
   "cell_type": "markdown",
   "metadata": {},
   "source": [
    "# Create tf-idf Scores for '3 Day Advance Headlines'"
   ]
  },
  {
   "cell_type": "code",
   "execution_count": 23,
   "metadata": {},
   "outputs": [
    {
     "data": {
      "text/html": [
       "<div>\n",
       "<style scoped>\n",
       "    .dataframe tbody tr th:only-of-type {\n",
       "        vertical-align: middle;\n",
       "    }\n",
       "\n",
       "    .dataframe tbody tr th {\n",
       "        vertical-align: top;\n",
       "    }\n",
       "\n",
       "    .dataframe thead th {\n",
       "        text-align: right;\n",
       "    }\n",
       "</style>\n",
       "<table border=\"1\" class=\"dataframe\">\n",
       "  <thead>\n",
       "    <tr style=\"text-align: right;\">\n",
       "      <th></th>\n",
       "      <th>01</th>\n",
       "      <th>02</th>\n",
       "      <th>03</th>\n",
       "      <th>04</th>\n",
       "      <th>05</th>\n",
       "      <th>06</th>\n",
       "      <th>07</th>\n",
       "      <th>08</th>\n",
       "      <th>09</th>\n",
       "      <th>10000</th>\n",
       "      <th>...</th>\n",
       "      <th>zions</th>\n",
       "      <th>zombie</th>\n",
       "      <th>zombies</th>\n",
       "      <th>zones</th>\n",
       "      <th>zoo</th>\n",
       "      <th>zte</th>\n",
       "      <th>zuckerberg</th>\n",
       "      <th>zuma</th>\n",
       "      <th>zurich</th>\n",
       "      <th>zynga</th>\n",
       "    </tr>\n",
       "  </thead>\n",
       "  <tbody>\n",
       "    <tr>\n",
       "      <th>0</th>\n",
       "      <td>0.0</td>\n",
       "      <td>0.0</td>\n",
       "      <td>0.0</td>\n",
       "      <td>0.0</td>\n",
       "      <td>0.0</td>\n",
       "      <td>0.0</td>\n",
       "      <td>0.0</td>\n",
       "      <td>0.0</td>\n",
       "      <td>0.0</td>\n",
       "      <td>0.0</td>\n",
       "      <td>...</td>\n",
       "      <td>0.0</td>\n",
       "      <td>0.0</td>\n",
       "      <td>0.0</td>\n",
       "      <td>0.0</td>\n",
       "      <td>0.0</td>\n",
       "      <td>0.0</td>\n",
       "      <td>0.0</td>\n",
       "      <td>0.0</td>\n",
       "      <td>0.0</td>\n",
       "      <td>0.0</td>\n",
       "    </tr>\n",
       "    <tr>\n",
       "      <th>1</th>\n",
       "      <td>0.0</td>\n",
       "      <td>0.0</td>\n",
       "      <td>0.0</td>\n",
       "      <td>0.0</td>\n",
       "      <td>0.0</td>\n",
       "      <td>0.0</td>\n",
       "      <td>0.0</td>\n",
       "      <td>0.0</td>\n",
       "      <td>0.0</td>\n",
       "      <td>0.0</td>\n",
       "      <td>...</td>\n",
       "      <td>0.0</td>\n",
       "      <td>0.0</td>\n",
       "      <td>0.0</td>\n",
       "      <td>0.0</td>\n",
       "      <td>0.0</td>\n",
       "      <td>0.0</td>\n",
       "      <td>0.0</td>\n",
       "      <td>0.0</td>\n",
       "      <td>0.0</td>\n",
       "      <td>0.0</td>\n",
       "    </tr>\n",
       "    <tr>\n",
       "      <th>2</th>\n",
       "      <td>0.0</td>\n",
       "      <td>0.0</td>\n",
       "      <td>0.0</td>\n",
       "      <td>0.0</td>\n",
       "      <td>0.0</td>\n",
       "      <td>0.0</td>\n",
       "      <td>0.0</td>\n",
       "      <td>0.0</td>\n",
       "      <td>0.0</td>\n",
       "      <td>0.0</td>\n",
       "      <td>...</td>\n",
       "      <td>0.0</td>\n",
       "      <td>0.0</td>\n",
       "      <td>0.0</td>\n",
       "      <td>0.0</td>\n",
       "      <td>0.0</td>\n",
       "      <td>0.0</td>\n",
       "      <td>0.0</td>\n",
       "      <td>0.0</td>\n",
       "      <td>0.0</td>\n",
       "      <td>0.0</td>\n",
       "    </tr>\n",
       "    <tr>\n",
       "      <th>3</th>\n",
       "      <td>0.0</td>\n",
       "      <td>0.0</td>\n",
       "      <td>0.0</td>\n",
       "      <td>0.0</td>\n",
       "      <td>0.0</td>\n",
       "      <td>0.0</td>\n",
       "      <td>0.0</td>\n",
       "      <td>0.0</td>\n",
       "      <td>0.0</td>\n",
       "      <td>0.0</td>\n",
       "      <td>...</td>\n",
       "      <td>0.0</td>\n",
       "      <td>0.0</td>\n",
       "      <td>0.0</td>\n",
       "      <td>0.0</td>\n",
       "      <td>0.0</td>\n",
       "      <td>0.0</td>\n",
       "      <td>0.0</td>\n",
       "      <td>0.0</td>\n",
       "      <td>0.0</td>\n",
       "      <td>0.0</td>\n",
       "    </tr>\n",
       "    <tr>\n",
       "      <th>4</th>\n",
       "      <td>0.0</td>\n",
       "      <td>0.0</td>\n",
       "      <td>0.0</td>\n",
       "      <td>0.0</td>\n",
       "      <td>0.0</td>\n",
       "      <td>0.0</td>\n",
       "      <td>0.0</td>\n",
       "      <td>0.0</td>\n",
       "      <td>0.0</td>\n",
       "      <td>0.0</td>\n",
       "      <td>...</td>\n",
       "      <td>0.0</td>\n",
       "      <td>0.0</td>\n",
       "      <td>0.0</td>\n",
       "      <td>0.0</td>\n",
       "      <td>0.0</td>\n",
       "      <td>0.0</td>\n",
       "      <td>0.0</td>\n",
       "      <td>0.0</td>\n",
       "      <td>0.0</td>\n",
       "      <td>0.0</td>\n",
       "    </tr>\n",
       "  </tbody>\n",
       "</table>\n",
       "<p>5 rows × 10529 columns</p>\n",
       "</div>"
      ],
      "text/plain": [
       "    01   02   03   04   05   06   07   08   09  10000  ...  zions  zombie  \\\n",
       "0  0.0  0.0  0.0  0.0  0.0  0.0  0.0  0.0  0.0    0.0  ...    0.0     0.0   \n",
       "1  0.0  0.0  0.0  0.0  0.0  0.0  0.0  0.0  0.0    0.0  ...    0.0     0.0   \n",
       "2  0.0  0.0  0.0  0.0  0.0  0.0  0.0  0.0  0.0    0.0  ...    0.0     0.0   \n",
       "3  0.0  0.0  0.0  0.0  0.0  0.0  0.0  0.0  0.0    0.0  ...    0.0     0.0   \n",
       "4  0.0  0.0  0.0  0.0  0.0  0.0  0.0  0.0  0.0    0.0  ...    0.0     0.0   \n",
       "\n",
       "   zombies  zones  zoo  zte  zuckerberg  zuma  zurich  zynga  \n",
       "0      0.0    0.0  0.0  0.0         0.0   0.0     0.0    0.0  \n",
       "1      0.0    0.0  0.0  0.0         0.0   0.0     0.0    0.0  \n",
       "2      0.0    0.0  0.0  0.0         0.0   0.0     0.0    0.0  \n",
       "3      0.0    0.0  0.0  0.0         0.0   0.0     0.0    0.0  \n",
       "4      0.0    0.0  0.0  0.0         0.0   0.0     0.0    0.0  \n",
       "\n",
       "[5 rows x 10529 columns]"
      ]
     },
     "execution_count": 23,
     "metadata": {},
     "output_type": "execute_result"
    }
   ],
   "source": [
    "tfidf_scores2 = vectorizer.fit_transform(corpus2)\n",
    "tfidf_matrix2 = tfidf_scores2.toarray() #put it to a matrix\n",
    "df_tfidf_scores2 = pd.DataFrame(tfidf_matrix2, columns=vectorizer.get_feature_names())\n",
    "df_tfidf_scores2.head()"
   ]
  },
  {
   "cell_type": "code",
   "execution_count": 25,
   "metadata": {},
   "outputs": [],
   "source": [
    "from sklearn.linear_model import LinearRegression\n",
    "from sklearn.metrics import mean_squared_error\n",
    "from sklearn.kernel_ridge import KernelRidge"
   ]
  },
  {
   "cell_type": "code",
   "execution_count": 41,
   "metadata": {},
   "outputs": [
    {
     "data": {
      "text/plain": [
       "5047"
      ]
     },
     "execution_count": 41,
     "metadata": {},
     "output_type": "execute_result"
    }
   ],
   "source": [
    "len(vix_close[3::])"
   ]
  },
  {
   "cell_type": "code",
   "execution_count": 61,
   "metadata": {},
   "outputs": [
    {
     "name": "stdout",
     "output_type": "stream",
     "text": [
      "VIX:\n",
      "R^2 Score: 0.6942673980667708\n",
      "R: 0.8332270987352552\n",
      "MSE: 22.115089221190125\n",
      "Sqrt(MSE): 4.702668308650964\n",
      "DJI:\n",
      "R^2 Score: 0.8380918954568944\n",
      "R: 0.9154735908025389\n",
      "MSE: 4460144.074145101\n",
      "Sqrt(MSE): 2111.9053184612944\n"
     ]
    }
   ],
   "source": [
    "y = vix_close[3::] #first 3 days are dedicated to predicting 3rd day\n",
    "X_train, X_test, y_train, y_test = train_test_split(tfidf_matrix2, y, test_size=0.3, random_state=0)\n",
    "print(\"VIX:\")\n",
    "#VIX models\n",
    "#r = LinearRegression().fit(X_train,y_train)\n",
    "#pred = r.predict(X_test)\n",
    "#print(\"LIN REG MSE: \" + str(mean_squared_error(pred,y_test)))\n",
    "\n",
    "vixclf = KernelRidge(alpha=1,kernel = \"poly\")\n",
    "vixclf.fit(X_train, y_train)\n",
    "vixpred =vixclf.predict(X_test)\n",
    "print(\"R^2 Score: \" + str(vixclf.score(X_test,y_test)))\n",
    "print(\"R: \" + str(math.sqrt(vixclf.score(X_test,y_test))))\n",
    "print(\"MSE: \" + str(mean_squared_error(vixpred,y_test)))\n",
    "print(\"Sqrt(MSE): \" + str(math.sqrt(mean_squared_error(vixpred,y_test))))\n",
    "\n",
    "print(\"DJI:\")\n",
    "#DJI Models\n",
    "y = dji_close[3::]\n",
    "X_train, X_test, y_train, y_test = train_test_split(tfidf_matrix2, y, test_size=0.3, random_state=0)\n",
    "\n",
    "#r = LinearRegression().fit(X_train,y_train)\n",
    "#pred = r.predict(X_test)\n",
    "#print(\"LIN REG MSE: \" + str(mean_squared_error(pred,y_test)))\n",
    "\n",
    "djiclf = KernelRidge(alpha=1,kernel = \"poly\")\n",
    "djiclf.fit(X_train, y_train)\n",
    "djipred =djiclf.predict(X_test)\n",
    "print(\"R^2 Score: \" + str(djiclf.score(X_test,y_test)))\n",
    "print(\"R: \" + str(math.sqrt(djiclf.score(X_test,y_test))))\n",
    "print(\"MSE: \" + str(mean_squared_error(djipred,y_test)))\n",
    "print(\"Sqrt(MSE): \" + str(math.sqrt(mean_squared_error(djipred,y_test))))"
   ]
  },
  {
   "cell_type": "code",
   "execution_count": 67,
   "metadata": {},
   "outputs": [],
   "source": [
    "import pyperclip\n",
    "arr = [str(d) for d in list(y_test)]\n",
    "pyperclip.copy(','.join(arr))\n"
   ]
  },
  {
   "cell_type": "markdown",
   "metadata": {},
   "source": [
    "# Modeling"
   ]
  },
  {
   "cell_type": "code",
   "execution_count": 185,
   "metadata": {},
   "outputs": [
    {
     "name": "stdout",
     "output_type": "stream",
     "text": [
      "3.180238643390024e+29\n"
     ]
    }
   ],
   "source": [
    "from sklearn.linear_model import LinearRegression\n",
    "from sklearn.metrics import mean_squared_error\n",
    "\n",
    "\n",
    "reg = LinearRegression().fit(X_train,y_train)\n",
    "pred = reg.predict(X_test)\n",
    "print(mean_squared_error(pred,y_test))"
   ]
  },
  {
   "cell_type": "markdown",
   "metadata": {},
   "source": [
    "## Kernel Ridge with VIX"
   ]
  },
  {
   "cell_type": "code",
   "execution_count": 54,
   "metadata": {},
   "outputs": [
    {
     "name": "stdout",
     "output_type": "stream",
     "text": [
      "R^2 Score: 0.3671007717845833\n",
      "R : 0.605888415291614\n",
      "MSE: 45.99317472403121\n"
     ]
    }
   ],
   "source": [
    "y = vix_close\n",
    "X_train, X_test, y_train, y_test = train_test_split(tfidf_matrix, y, test_size=0.3, random_state=0)\n",
    "\n",
    "clf = KernelRidge(alpha=1,kernel = \"poly\")\n",
    "clf.fit(X_train, y_train)\n",
    "pred =clf.predict(X_test)\n",
    "print(\"R^2 Score: \" + str(clf.score(X_test,y_test)))\n",
    "print(\"R : \" + str(math.sqrt(clf.score(X_test,y_test))))\n",
    "print(\"MSE: \" + str(mean_squared_error(pred,y_test)))"
   ]
  },
  {
   "cell_type": "markdown",
   "metadata": {},
   "source": [
    "## Kernel Ridge with DJI"
   ]
  },
  {
   "cell_type": "code",
   "execution_count": 68,
   "metadata": {},
   "outputs": [
    {
     "name": "stdout",
     "output_type": "stream",
     "text": [
      "R^2 Score: 0.6956996617893683\n",
      "R : 0.834086123724264\n",
      "MSE: 8295060.98485426\n",
      "Sqrt(MSE): 2880.1147520288596\n"
     ]
    }
   ],
   "source": [
    "y = dji_close\n",
    "X_train, X_test, y_train, y_test = train_test_split(tfidf_matrix, y, test_size=0.3, random_state=0)\n",
    "\n",
    "clf = KernelRidge(alpha=1,kernel = \"poly\")\n",
    "clf.fit(X_train, y_train)\n",
    "pred =clf.predict(X_test)\n",
    "print(\"R^2 Score: \" + str(clf.score(X_test,y_test)))\n",
    "print(\"R : \" + str(math.sqrt(clf.score(X_test,y_test))))\n",
    "print(\"MSE: \" + str(mean_squared_error(pred,y_test)))\n",
    "print(\"Sqrt(MSE): \" + str(math.sqrt(mean_squared_error(pred,y_test))))"
   ]
  },
  {
   "cell_type": "code",
   "execution_count": 70,
   "metadata": {},
   "outputs": [],
   "source": [
    "arr = [str(d) for d in list(y_test)]\n",
    "pyperclip.copy(','.join(arr))"
   ]
  },
  {
   "cell_type": "markdown",
   "metadata": {},
   "source": [
    "# Testing"
   ]
  },
  {
   "cell_type": "code",
   "execution_count": 73,
   "metadata": {},
   "outputs": [
    {
     "ename": "NameError",
     "evalue": "name 'i' is not defined",
     "output_type": "error",
     "traceback": [
      "\u001b[0;31m---------------------------------------------------------------------------\u001b[0m",
      "\u001b[0;31mNameError\u001b[0m                                 Traceback (most recent call last)",
      "\u001b[0;32m<ipython-input-73-3ed589ba7994>\u001b[0m in \u001b[0;36m<module>\u001b[0;34m\u001b[0m\n\u001b[0;32m----> 1\u001b[0;31m \u001b[0;34m[\u001b[0m\u001b[0;34m\" . \"\u001b[0m\u001b[0;34m.\u001b[0m\u001b[0mjoin\u001b[0m\u001b[0;34m(\u001b[0m\u001b[0mheads\u001b[0m\u001b[0;34m[\u001b[0m\u001b[0mdates\u001b[0m\u001b[0;34m[\u001b[0m\u001b[0mi\u001b[0m\u001b[0;34m+\u001b[0m\u001b[0mk\u001b[0m\u001b[0;34m]\u001b[0m\u001b[0;34m.\u001b[0m\u001b[0mreplace\u001b[0m\u001b[0;34m(\u001b[0m\u001b[0;34m\"-\"\u001b[0m\u001b[0;34m,\u001b[0m\u001b[0;34m\"\"\u001b[0m\u001b[0;34m)\u001b[0m\u001b[0;34m]\u001b[0m\u001b[0;34m)\u001b[0m \u001b[0;32mfor\u001b[0m \u001b[0mk\u001b[0m \u001b[0;32min\u001b[0m \u001b[0mrange\u001b[0m\u001b[0;34m(\u001b[0m\u001b[0;36m5\u001b[0m\u001b[0;34m)\u001b[0m\u001b[0;34m]\u001b[0m\u001b[0;34m\u001b[0m\u001b[0;34m\u001b[0m\u001b[0m\n\u001b[0m",
      "\u001b[0;32m<ipython-input-73-3ed589ba7994>\u001b[0m in \u001b[0;36m<listcomp>\u001b[0;34m(.0)\u001b[0m\n\u001b[0;32m----> 1\u001b[0;31m \u001b[0;34m[\u001b[0m\u001b[0;34m\" . \"\u001b[0m\u001b[0;34m.\u001b[0m\u001b[0mjoin\u001b[0m\u001b[0;34m(\u001b[0m\u001b[0mheads\u001b[0m\u001b[0;34m[\u001b[0m\u001b[0mdates\u001b[0m\u001b[0;34m[\u001b[0m\u001b[0mi\u001b[0m\u001b[0;34m+\u001b[0m\u001b[0mk\u001b[0m\u001b[0;34m]\u001b[0m\u001b[0;34m.\u001b[0m\u001b[0mreplace\u001b[0m\u001b[0;34m(\u001b[0m\u001b[0;34m\"-\"\u001b[0m\u001b[0;34m,\u001b[0m\u001b[0;34m\"\"\u001b[0m\u001b[0;34m)\u001b[0m\u001b[0;34m]\u001b[0m\u001b[0;34m)\u001b[0m \u001b[0;32mfor\u001b[0m \u001b[0mk\u001b[0m \u001b[0;32min\u001b[0m \u001b[0mrange\u001b[0m\u001b[0;34m(\u001b[0m\u001b[0;36m5\u001b[0m\u001b[0;34m)\u001b[0m\u001b[0;34m]\u001b[0m\u001b[0;34m\u001b[0m\u001b[0;34m\u001b[0m\u001b[0m\n\u001b[0m",
      "\u001b[0;31mNameError\u001b[0m: name 'i' is not defined"
     ]
    }
   ],
   "source": [
    "[\" . \".join(heads[dates[i+k].replace(\"-\",\"\")]) for k in range(5)]"
   ]
  },
  {
   "cell_type": "code",
   "execution_count": 78,
   "metadata": {},
   "outputs": [
    {
     "name": "stdout",
     "output_type": "stream",
     "text": [
      "VIX: 1\n",
      "R^2 Score: 0.36620556227529255\n",
      "R: 0.6051492066220466\n",
      "MSE: 44.40059344289661\n",
      "Sqrt(MSE): 6.663377029922335\n",
      "---------------------------\n",
      "DJI: 1\n",
      "R^2 Score: 0.6843750702408062\n",
      "R: 0.8272696478421085\n",
      "MSE: 8872092.104635814\n",
      "Sqrt(MSE): 2978.6057316529514\n",
      "********************\n",
      "VIX: 2\n",
      "R^2 Score: 0.5887525447137796\n",
      "R: 0.7673021208844529\n",
      "MSE: 29.258880736802073\n",
      "Sqrt(MSE): 5.409147875294414\n",
      "---------------------------\n",
      "DJI: 2\n",
      "R^2 Score: 0.7733603898480989\n",
      "R: 0.8794091140351564\n",
      "MSE: 6211646.302334965\n",
      "Sqrt(MSE): 2492.317456171056\n",
      "********************\n",
      "VIX: 3\n",
      "R^2 Score: 0.6942673980667708\n",
      "R: 0.8332270987352552\n",
      "MSE: 22.115089221190125\n",
      "Sqrt(MSE): 4.702668308650964\n",
      "---------------------------\n",
      "DJI: 3\n",
      "R^2 Score: 0.8380918954568944\n",
      "R: 0.9154735908025389\n",
      "MSE: 4460144.074145101\n",
      "Sqrt(MSE): 2111.9053184612944\n",
      "********************\n",
      "VIX: 4\n",
      "R^2 Score: 0.7409685332117526\n",
      "R: 0.8607952911184823\n",
      "MSE: 18.46195807652712\n",
      "Sqrt(MSE): 4.296738073996031\n",
      "---------------------------\n",
      "DJI: 4\n",
      "R^2 Score: 0.8856363105277475\n",
      "R: 0.9410825205728494\n",
      "MSE: 3200571.737581886\n",
      "Sqrt(MSE): 1789.0141803747354\n",
      "********************\n",
      "VIX: 5\n",
      "R^2 Score: 0.7895515205591691\n",
      "R: 0.888567116519157\n",
      "MSE: 15.319763108194199\n",
      "Sqrt(MSE): 3.914046896524644\n",
      "---------------------------\n",
      "DJI: 5\n",
      "R^2 Score: 0.9098779712104507\n",
      "R: 0.9538752388077021\n",
      "MSE: 2562283.03509132\n",
      "Sqrt(MSE): 1600.713289471703\n",
      "********************\n"
     ]
    }
   ],
   "source": [
    "for j in range(1,6):\n",
    "    corpus3 = [''.join([\" . \".join(heads[dates[i+k].replace(\"-\",\"\")]) for k in range(j)])\n",
    "           for i in range(len(dates)-j)]\n",
    "    tfidf_scores3 = vectorizer.fit_transform(corpus3)\n",
    "    tfidf_matrix3 = tfidf_scores3.toarray() #put it to a matrix\n",
    "    \n",
    "    y = vix_close[j::] #first 3 days are dedicated to predicting jth day\n",
    "    X_train, X_test, y_train, y_test = train_test_split(tfidf_matrix3, y, test_size=0.3, random_state=0)\n",
    "    vixclf = KernelRidge(alpha=1,kernel = \"poly\")\n",
    "    vixclf.fit(X_train, y_train)\n",
    "    vixpred =vixclf.predict(X_test)\n",
    "    print(\"VIX: \" + str(j))\n",
    "    print(\"R^2 Score: \" + str(vixclf.score(X_test,y_test)))\n",
    "    print(\"R: \" + str(math.sqrt(vixclf.score(X_test,y_test))))\n",
    "    print(\"MSE: \" + str(mean_squared_error(vixpred,y_test)))\n",
    "    print(\"Sqrt(MSE): \" + str(math.sqrt(mean_squared_error(vixpred,y_test))))\n",
    "    print(\"---------------------------\")\n",
    "     \n",
    "    y = dji_close[j::]\n",
    "    X_train, X_test, y_train, y_test = train_test_split(tfidf_matrix3, y, test_size=0.3, random_state=0)\n",
    "    djiclf = KernelRidge(alpha=1,kernel = \"poly\")\n",
    "    djiclf.fit(X_train, y_train)\n",
    "    djipred =djiclf.predict(X_test)\n",
    "    print(\"DJI: \" + str(j))\n",
    "    print(\"R^2 Score: \" + str(djiclf.score(X_test,y_test)))\n",
    "    print(\"R: \" + str(math.sqrt(djiclf.score(X_test,y_test))))\n",
    "    print(\"MSE: \" + str(mean_squared_error(djipred,y_test)))\n",
    "    print(\"Sqrt(MSE): \" + str(math.sqrt(mean_squared_error(djipred,y_test))))\n",
    "    \n",
    "    print(\"********************\")"
   ]
  },
  {
   "cell_type": "code",
   "execution_count": 81,
   "metadata": {},
   "outputs": [],
   "source": [
    "import pickle\n",
    "file = 'dji.sav'\n",
    "pickle.dump(djiclf, open(file, 'wb'))"
   ]
  },
  {
   "cell_type": "code",
   "execution_count": 83,
   "metadata": {},
   "outputs": [
    {
     "name": "stdout",
     "output_type": "stream",
     "text": [
      "0.9098779712104507\n",
      "0.9538752388077021\n"
     ]
    }
   ],
   "source": [
    "loaded_model = pickle.load(open(file, 'rb'))\n",
    "result = loaded_model.score(X_test, y_test)\n",
    "print(result)\n",
    "print(math.sqrt(result))"
   ]
  },
  {
   "cell_type": "code",
   "execution_count": null,
   "metadata": {},
   "outputs": [],
   "source": []
  }
 ],
 "metadata": {
  "kernelspec": {
   "display_name": "Python 3 (ipykernel)",
   "language": "python",
   "name": "python3"
  },
  "language_info": {
   "codemirror_mode": {
    "name": "ipython",
    "version": 3
   },
   "file_extension": ".py",
   "mimetype": "text/x-python",
   "name": "python",
   "nbconvert_exporter": "python",
   "pygments_lexer": "ipython3",
   "version": "3.8.0"
  }
 },
 "nbformat": 4,
 "nbformat_minor": 4
}
